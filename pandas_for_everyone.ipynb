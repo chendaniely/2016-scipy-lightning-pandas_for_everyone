{
 "cells": [
  {
   "cell_type": "markdown",
   "metadata": {
    "slideshow": {
     "slide_type": "slide"
    }
   },
   "source": [
    "# Pandas For Everyone\n",
    "\n",
    "Daniel Chen"
   ]
  },
  {
   "cell_type": "markdown",
   "metadata": {
    "slideshow": {
     "slide_type": "slide"
    }
   },
   "source": [
    "# Hi!\n",
    "\n",
    "- Graduate Student @ Virginia Tech\n",
    "- Social and Decision Analytics Laboratory\n",
    "- Network Dynamics and Simulation Science Laboratory\n",
    "- Software/Data Carpentry Instructor\n",
    "    - R Inflammation-Lesson Maintainer"
   ]
  },
  {
   "cell_type": "markdown",
   "metadata": {
    "slideshow": {
     "slide_type": "slide"
    }
   },
   "source": [
    "# Literate Programming\n",
    "\n",
    "Last year's Talk: https://github.com/chendaniely/2015-scipy-lightning-literate\n",
    "\n",
    "Example pweave example: https://github.com/chendaniely/pweave-child-document-example\n",
    "\n",
    "LaTeX Child Documents: https://github.com/chendaniely/sdal_paper_template"
   ]
  },
  {
   "cell_type": "markdown",
   "metadata": {
    "slideshow": {
     "slide_type": "slide"
    }
   },
   "source": [
    "# Pandas for Everyone\n",
    "\n",
    "Addison-Wesley Data & Analytics Series\n",
    "\n",
    "Similar to R for Everyone, but for Python!\n",
    "\n",
    "Python for Programming vs Python for Analytics"
   ]
  },
  {
   "cell_type": "markdown",
   "metadata": {
    "slideshow": {
     "slide_type": "slide"
    }
   },
   "source": [
    "# Chapter 1\n",
    "\n",
    "```\n",
    "Chapter 1 Pandas Dataframe basics\n",
    "1.1 Introduction\n",
    "1.2 Concept map\n",
    "1.3 Objectives\n",
    "1.4 Loading your first data set\n",
    "1.5 Looking at columns, rows, and cells\n",
    "1.5.1 Subsetting columns\n",
    "1.5.2 Subsetting rows\n",
    "1.5.3 Mixing it up\n",
    "1.6 Grouped and aggregated calculations\n",
    "1.6.1 Grouped means\n",
    "1.6.2 Grouped frequency counts\n",
    "1.7 Basic plot\n",
    "1.8 Conclusion\n",
    "```"
   ]
  },
  {
   "cell_type": "markdown",
   "metadata": {
    "slideshow": {
     "slide_type": "slide"
    }
   },
   "source": [
    "# Chapter 2\n",
    "\n",
    "```\n",
    "Chapter 2 Pandas data structures\n",
    "2.1 Introduction\n",
    "2.2 Concept map\n",
    "2.3 Objectives\n",
    "2.4 Creating your own data\n",
    "2.4.1 Creating a Series\n",
    "2.4.2 Creating a DataFrame\n",
    "2.5 The Series\n",
    "2.5.1 The Series is ndarray-like\n",
    "2.5.2 Boolean subsetting Series\n",
    "2.5.3 Operations are vectorized\n",
    "2.6 The DataFrame\n",
    "2.6.1 Boolean subsetting DataFrame\n",
    "2.6.2 Operations are automatically aligned and vectorized\n",
    "2.7 Making changes to Series and DataFrame s\n",
    "2.7.1 Add additional columns\n",
    "2.7.2 Directly change a column\n",
    "2.8 Exporting and importing data\n",
    "2.8.1 picle\n",
    "2.8.2 CSV\n",
    "2.8.3 Excel\n",
    "2.8.4 Mat data output types\n",
    "2.9 Conclusion\n",
    "```"
   ]
  },
  {
   "cell_type": "markdown",
   "metadata": {
    "slideshow": {
     "slide_type": "slide"
    }
   },
   "source": [
    "# Chapter 3\n",
    "\n",
    "```\n",
    "Chapter 3 Introduction to Plotting\n",
    "3.1 Introduction\n",
    "3.2 Concept map\n",
    "3.3 Objectives\n",
    "3.4 matplotlib\n",
    "3.5 Statistical Graphics using matplotlib\n",
    "3.5.1 univariate\n",
    "3.5.2 bivariate\n",
    "3.5.3 multivariate\n",
    "3.6 seaborn\n",
    "3.6.1 univariate\n",
    "3.6.2 bivariate\n",
    "3.6.3 multivariate\n",
    "3.7 pandas\n",
    "3.7.1 Histograms\n",
    "3.7.2 Density Plot\n",
    "3.7.3 Scatter Plot\n",
    "3.7.4 Hexbin Plot\n",
    "3.7.5 Box Plot\n",
    "3.8 Themes and Styles\n",
    "3.9 Conclusion`\n",
    "\n",
    "```"
   ]
  },
  {
   "cell_type": "markdown",
   "metadata": {
    "slideshow": {
     "slide_type": "slide"
    }
   },
   "source": [
    "# Data Munging\n",
    "\n",
    "```\n",
    "1. Testing data quality\n",
    "    1. completeness\n",
    "    2. validity\n",
    "    3. consistency\n",
    "    4. uniqueness\n",
    "    5. duplication\n",
    "2. Profiling data structure\n",
    "    1. Missing variables\n",
    "    2. Combined variables\n",
    "    3. multiple observation directions\n",
    "    4. combined observation unit types\n",
    "    5. divided observation unit type\n",
    "\n",
    "```"
   ]
  },
  {
   "cell_type": "markdown",
   "metadata": {
    "slideshow": {
     "slide_type": "slide"
    }
   },
   "source": [
    "# Thanks\n",
    "\n",
    "@chendaniely\n",
    "\n",
    "chendaniely.github.io"
   ]
  },
  {
   "cell_type": "code",
   "execution_count": null,
   "metadata": {
    "collapsed": true
   },
   "outputs": [],
   "source": []
  }
 ],
 "metadata": {
  "celltoolbar": "Slideshow",
  "kernelspec": {
   "display_name": "Python 3",
   "language": "python",
   "name": "python3"
  },
  "language_info": {
   "codemirror_mode": {
    "name": "ipython",
    "version": 3
   },
   "file_extension": ".py",
   "mimetype": "text/x-python",
   "name": "python",
   "nbconvert_exporter": "python",
   "pygments_lexer": "ipython3",
   "version": "3.5.1"
  }
 },
 "nbformat": 4,
 "nbformat_minor": 0
}
